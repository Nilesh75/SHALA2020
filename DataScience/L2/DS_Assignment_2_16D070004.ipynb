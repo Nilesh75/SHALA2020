{
 "cells": [
  {
   "cell_type": "markdown",
   "metadata": {
    "colab_type": "text",
    "id": "1X6ddOR8HFsX"
   },
   "source": [
    "\n",
    "# DS Assignment 2: Basic Data Understanding\n",
    "# Nilesh Sonune | 16D070004\n",
    "\n",
    "---\n",
    "\n",
    "This assignment will get you familiarized with Python libraries and  functions required for data visualization."
   ]
  },
  {
   "cell_type": "markdown",
   "metadata": {
    "colab_type": "text",
    "id": "XRd4EfXN5fQb"
   },
   "source": [
    "---\n",
    "## Part 1 - Loading data \n",
    "---"
   ]
  },
  {
   "cell_type": "markdown",
   "metadata": {
    "colab_type": "text",
    "id": "Q7W6I-fVIoqp"
   },
   "source": [
    "###Import the following libraries:  \n",
    "\n",
    "* ```numpy``` with an alias name ```np```, \n",
    "* ```pandas``` with an alias name ```pd```, \n",
    "* ```matplotlib.pyplot``` with an alias name ```plt```, and \n",
    "* ```seaborn``` with an alias name ```sns```. "
   ]
  },
  {
   "cell_type": "code",
   "execution_count": 1,
   "metadata": {
    "colab": {},
    "colab_type": "code",
    "id": "NihF3MwIGI4m"
   },
   "outputs": [],
   "source": [
    "# Load the four libraries with their aliases \n",
    "import numpy as np\n",
    "import pandas as pd\n",
    "import matplotlib.pyplot as plt\n",
    "import seaborn as sns"
   ]
  },
  {
   "cell_type": "markdown",
   "metadata": {
    "colab_type": "text",
    "id": "dsLj-TSQJgMb"
   },
   "source": [
    "### Using the files ```train.csv``` and ```moviesData.csv```,  peform the following:\n",
    "\n",
    "* Load these file as ```pandas``` dataframes and store it in variables named ```df``` and ```movies``` respectively. \n",
    "* Print the first ten rows of ```df```. \n",
    "\n"
   ]
  },
  {
   "cell_type": "code",
   "execution_count": 2,
   "metadata": {
    "colab": {},
    "colab_type": "code",
    "id": "3AjvT40AGIq6"
   },
   "outputs": [],
   "source": [
    "# Load the file as a dataframe \n",
    "df = pd.read_csv(\"train.csv\")\n",
    "movies = pd.read_csv(\"moviesData.csv\")"
   ]
  },
  {
   "cell_type": "code",
   "execution_count": 3,
   "metadata": {
    "colab": {},
    "colab_type": "code",
    "id": "7eCo7WlMGMkn"
   },
   "outputs": [
    {
     "data": {
      "text/html": [
       "<div>\n",
       "<style scoped>\n",
       "    .dataframe tbody tr th:only-of-type {\n",
       "        vertical-align: middle;\n",
       "    }\n",
       "\n",
       "    .dataframe tbody tr th {\n",
       "        vertical-align: top;\n",
       "    }\n",
       "\n",
       "    .dataframe thead th {\n",
       "        text-align: right;\n",
       "    }\n",
       "</style>\n",
       "<table border=\"1\" class=\"dataframe\">\n",
       "  <thead>\n",
       "    <tr style=\"text-align: right;\">\n",
       "      <th></th>\n",
       "      <th>Age</th>\n",
       "      <th>Attrition</th>\n",
       "      <th>BusinessTravel</th>\n",
       "      <th>DailyRate</th>\n",
       "      <th>Department</th>\n",
       "      <th>DistanceFromHome</th>\n",
       "      <th>Education</th>\n",
       "      <th>EducationField</th>\n",
       "      <th>EmployeeCount</th>\n",
       "      <th>EmployeeNumber</th>\n",
       "      <th>...</th>\n",
       "      <th>RelationshipSatisfaction</th>\n",
       "      <th>StockOptionLevel</th>\n",
       "      <th>TotalWorkingYears</th>\n",
       "      <th>TrainingTimesLastYear</th>\n",
       "      <th>WorkLifeBalance</th>\n",
       "      <th>YearsAtCompany</th>\n",
       "      <th>YearsInCurrentRole</th>\n",
       "      <th>YearsSinceLastPromotion</th>\n",
       "      <th>YearsWithCurrManager</th>\n",
       "      <th>ID</th>\n",
       "    </tr>\n",
       "  </thead>\n",
       "  <tbody>\n",
       "    <tr>\n",
       "      <th>0</th>\n",
       "      <td>41</td>\n",
       "      <td>1</td>\n",
       "      <td>Travel_Rarely</td>\n",
       "      <td>1102</td>\n",
       "      <td>Sales</td>\n",
       "      <td>1</td>\n",
       "      <td>2</td>\n",
       "      <td>Life Sciences</td>\n",
       "      <td>1</td>\n",
       "      <td>1</td>\n",
       "      <td>...</td>\n",
       "      <td>1</td>\n",
       "      <td>0</td>\n",
       "      <td>8</td>\n",
       "      <td>0</td>\n",
       "      <td>1</td>\n",
       "      <td>6</td>\n",
       "      <td>4</td>\n",
       "      <td>0</td>\n",
       "      <td>5</td>\n",
       "      <td>0</td>\n",
       "    </tr>\n",
       "    <tr>\n",
       "      <th>1</th>\n",
       "      <td>49</td>\n",
       "      <td>0</td>\n",
       "      <td>Travel_Frequently</td>\n",
       "      <td>279</td>\n",
       "      <td>Research &amp; Development</td>\n",
       "      <td>8</td>\n",
       "      <td>1</td>\n",
       "      <td>Life Sciences</td>\n",
       "      <td>1</td>\n",
       "      <td>2</td>\n",
       "      <td>...</td>\n",
       "      <td>4</td>\n",
       "      <td>1</td>\n",
       "      <td>10</td>\n",
       "      <td>3</td>\n",
       "      <td>3</td>\n",
       "      <td>10</td>\n",
       "      <td>7</td>\n",
       "      <td>1</td>\n",
       "      <td>7</td>\n",
       "      <td>1</td>\n",
       "    </tr>\n",
       "    <tr>\n",
       "      <th>2</th>\n",
       "      <td>37</td>\n",
       "      <td>1</td>\n",
       "      <td>Travel_Rarely</td>\n",
       "      <td>1373</td>\n",
       "      <td>Research &amp; Development</td>\n",
       "      <td>2</td>\n",
       "      <td>2</td>\n",
       "      <td>Other</td>\n",
       "      <td>1</td>\n",
       "      <td>4</td>\n",
       "      <td>...</td>\n",
       "      <td>2</td>\n",
       "      <td>0</td>\n",
       "      <td>7</td>\n",
       "      <td>3</td>\n",
       "      <td>3</td>\n",
       "      <td>0</td>\n",
       "      <td>0</td>\n",
       "      <td>0</td>\n",
       "      <td>0</td>\n",
       "      <td>2</td>\n",
       "    </tr>\n",
       "    <tr>\n",
       "      <th>3</th>\n",
       "      <td>33</td>\n",
       "      <td>0</td>\n",
       "      <td>Travel_Frequently</td>\n",
       "      <td>1392</td>\n",
       "      <td>Research &amp; Development</td>\n",
       "      <td>3</td>\n",
       "      <td>4</td>\n",
       "      <td>Life Sciences</td>\n",
       "      <td>1</td>\n",
       "      <td>5</td>\n",
       "      <td>...</td>\n",
       "      <td>3</td>\n",
       "      <td>0</td>\n",
       "      <td>8</td>\n",
       "      <td>3</td>\n",
       "      <td>3</td>\n",
       "      <td>8</td>\n",
       "      <td>7</td>\n",
       "      <td>3</td>\n",
       "      <td>0</td>\n",
       "      <td>3</td>\n",
       "    </tr>\n",
       "    <tr>\n",
       "      <th>4</th>\n",
       "      <td>27</td>\n",
       "      <td>0</td>\n",
       "      <td>Travel_Rarely</td>\n",
       "      <td>591</td>\n",
       "      <td>Research &amp; Development</td>\n",
       "      <td>2</td>\n",
       "      <td>1</td>\n",
       "      <td>Medical</td>\n",
       "      <td>1</td>\n",
       "      <td>7</td>\n",
       "      <td>...</td>\n",
       "      <td>4</td>\n",
       "      <td>1</td>\n",
       "      <td>6</td>\n",
       "      <td>3</td>\n",
       "      <td>3</td>\n",
       "      <td>2</td>\n",
       "      <td>2</td>\n",
       "      <td>2</td>\n",
       "      <td>2</td>\n",
       "      <td>4</td>\n",
       "    </tr>\n",
       "    <tr>\n",
       "      <th>5</th>\n",
       "      <td>32</td>\n",
       "      <td>0</td>\n",
       "      <td>Travel_Frequently</td>\n",
       "      <td>1005</td>\n",
       "      <td>Research &amp; Development</td>\n",
       "      <td>2</td>\n",
       "      <td>2</td>\n",
       "      <td>Life Sciences</td>\n",
       "      <td>1</td>\n",
       "      <td>8</td>\n",
       "      <td>...</td>\n",
       "      <td>3</td>\n",
       "      <td>0</td>\n",
       "      <td>8</td>\n",
       "      <td>2</td>\n",
       "      <td>2</td>\n",
       "      <td>7</td>\n",
       "      <td>7</td>\n",
       "      <td>3</td>\n",
       "      <td>6</td>\n",
       "      <td>5</td>\n",
       "    </tr>\n",
       "    <tr>\n",
       "      <th>6</th>\n",
       "      <td>59</td>\n",
       "      <td>0</td>\n",
       "      <td>Travel_Rarely</td>\n",
       "      <td>1324</td>\n",
       "      <td>Research &amp; Development</td>\n",
       "      <td>3</td>\n",
       "      <td>3</td>\n",
       "      <td>Medical</td>\n",
       "      <td>1</td>\n",
       "      <td>10</td>\n",
       "      <td>...</td>\n",
       "      <td>1</td>\n",
       "      <td>3</td>\n",
       "      <td>12</td>\n",
       "      <td>3</td>\n",
       "      <td>2</td>\n",
       "      <td>1</td>\n",
       "      <td>0</td>\n",
       "      <td>0</td>\n",
       "      <td>0</td>\n",
       "      <td>6</td>\n",
       "    </tr>\n",
       "    <tr>\n",
       "      <th>7</th>\n",
       "      <td>30</td>\n",
       "      <td>0</td>\n",
       "      <td>Travel_Rarely</td>\n",
       "      <td>1358</td>\n",
       "      <td>Research &amp; Development</td>\n",
       "      <td>24</td>\n",
       "      <td>1</td>\n",
       "      <td>Life Sciences</td>\n",
       "      <td>1</td>\n",
       "      <td>11</td>\n",
       "      <td>...</td>\n",
       "      <td>2</td>\n",
       "      <td>1</td>\n",
       "      <td>1</td>\n",
       "      <td>2</td>\n",
       "      <td>3</td>\n",
       "      <td>1</td>\n",
       "      <td>0</td>\n",
       "      <td>0</td>\n",
       "      <td>0</td>\n",
       "      <td>7</td>\n",
       "    </tr>\n",
       "    <tr>\n",
       "      <th>8</th>\n",
       "      <td>38</td>\n",
       "      <td>0</td>\n",
       "      <td>Travel_Frequently</td>\n",
       "      <td>216</td>\n",
       "      <td>Research &amp; Development</td>\n",
       "      <td>23</td>\n",
       "      <td>3</td>\n",
       "      <td>Life Sciences</td>\n",
       "      <td>1</td>\n",
       "      <td>12</td>\n",
       "      <td>...</td>\n",
       "      <td>2</td>\n",
       "      <td>0</td>\n",
       "      <td>10</td>\n",
       "      <td>2</td>\n",
       "      <td>3</td>\n",
       "      <td>9</td>\n",
       "      <td>7</td>\n",
       "      <td>1</td>\n",
       "      <td>8</td>\n",
       "      <td>8</td>\n",
       "    </tr>\n",
       "    <tr>\n",
       "      <th>9</th>\n",
       "      <td>36</td>\n",
       "      <td>0</td>\n",
       "      <td>Travel_Rarely</td>\n",
       "      <td>1299</td>\n",
       "      <td>Research &amp; Development</td>\n",
       "      <td>27</td>\n",
       "      <td>3</td>\n",
       "      <td>Medical</td>\n",
       "      <td>1</td>\n",
       "      <td>13</td>\n",
       "      <td>...</td>\n",
       "      <td>2</td>\n",
       "      <td>2</td>\n",
       "      <td>17</td>\n",
       "      <td>3</td>\n",
       "      <td>2</td>\n",
       "      <td>7</td>\n",
       "      <td>7</td>\n",
       "      <td>7</td>\n",
       "      <td>7</td>\n",
       "      <td>9</td>\n",
       "    </tr>\n",
       "  </tbody>\n",
       "</table>\n",
       "<p>10 rows × 34 columns</p>\n",
       "</div>"
      ],
      "text/plain": [
       "   Age  Attrition     BusinessTravel  DailyRate              Department  \\\n",
       "0   41          1      Travel_Rarely       1102                   Sales   \n",
       "1   49          0  Travel_Frequently        279  Research & Development   \n",
       "2   37          1      Travel_Rarely       1373  Research & Development   \n",
       "3   33          0  Travel_Frequently       1392  Research & Development   \n",
       "4   27          0      Travel_Rarely        591  Research & Development   \n",
       "5   32          0  Travel_Frequently       1005  Research & Development   \n",
       "6   59          0      Travel_Rarely       1324  Research & Development   \n",
       "7   30          0      Travel_Rarely       1358  Research & Development   \n",
       "8   38          0  Travel_Frequently        216  Research & Development   \n",
       "9   36          0      Travel_Rarely       1299  Research & Development   \n",
       "\n",
       "   DistanceFromHome  Education EducationField  EmployeeCount  EmployeeNumber  \\\n",
       "0                 1          2  Life Sciences              1               1   \n",
       "1                 8          1  Life Sciences              1               2   \n",
       "2                 2          2          Other              1               4   \n",
       "3                 3          4  Life Sciences              1               5   \n",
       "4                 2          1        Medical              1               7   \n",
       "5                 2          2  Life Sciences              1               8   \n",
       "6                 3          3        Medical              1              10   \n",
       "7                24          1  Life Sciences              1              11   \n",
       "8                23          3  Life Sciences              1              12   \n",
       "9                27          3        Medical              1              13   \n",
       "\n",
       "   ...  RelationshipSatisfaction StockOptionLevel  TotalWorkingYears  \\\n",
       "0  ...                         1                0                  8   \n",
       "1  ...                         4                1                 10   \n",
       "2  ...                         2                0                  7   \n",
       "3  ...                         3                0                  8   \n",
       "4  ...                         4                1                  6   \n",
       "5  ...                         3                0                  8   \n",
       "6  ...                         1                3                 12   \n",
       "7  ...                         2                1                  1   \n",
       "8  ...                         2                0                 10   \n",
       "9  ...                         2                2                 17   \n",
       "\n",
       "   TrainingTimesLastYear  WorkLifeBalance YearsAtCompany  YearsInCurrentRole  \\\n",
       "0                      0                1              6                   4   \n",
       "1                      3                3             10                   7   \n",
       "2                      3                3              0                   0   \n",
       "3                      3                3              8                   7   \n",
       "4                      3                3              2                   2   \n",
       "5                      2                2              7                   7   \n",
       "6                      3                2              1                   0   \n",
       "7                      2                3              1                   0   \n",
       "8                      2                3              9                   7   \n",
       "9                      3                2              7                   7   \n",
       "\n",
       "  YearsSinceLastPromotion  YearsWithCurrManager  ID  \n",
       "0                       0                     5   0  \n",
       "1                       1                     7   1  \n",
       "2                       0                     0   2  \n",
       "3                       3                     0   3  \n",
       "4                       2                     2   4  \n",
       "5                       3                     6   5  \n",
       "6                       0                     0   6  \n",
       "7                       0                     0   7  \n",
       "8                       1                     8   8  \n",
       "9                       7                     7   9  \n",
       "\n",
       "[10 rows x 34 columns]"
      ]
     },
     "execution_count": 3,
     "metadata": {},
     "output_type": "execute_result"
    }
   ],
   "source": [
    "# Print the first ten rows of df\n",
    "df.iloc[:10]\n",
    "# or df.head(10)"
   ]
  },
  {
   "cell_type": "markdown",
   "metadata": {
    "colab_type": "text",
    "id": "PSm-U7LEF5u_"
   },
   "source": [
    "### Using the dataframe ```df```, perform the following: \n",
    "\n",
    "* Print the first five rows of the column ```MonthlyRate```. \n",
    "* Find out the details of the column ```MonthlyRate``` like mean, maximum value, minimum value, etc. "
   ]
  },
  {
   "cell_type": "code",
   "execution_count": 4,
   "metadata": {
    "colab": {},
    "colab_type": "code",
    "id": "QS5LttI-GT2f"
   },
   "outputs": [
    {
     "data": {
      "text/plain": [
       "0    19479\n",
       "1    24907\n",
       "2     2396\n",
       "3    23159\n",
       "4    16632\n",
       "Name: MonthlyRate, dtype: int64"
      ]
     },
     "execution_count": 4,
     "metadata": {},
     "output_type": "execute_result"
    }
   ],
   "source": [
    "# Print the first five rows of MonthlyRate\n",
    "df.MonthlyRate.iloc[:5]"
   ]
  },
  {
   "cell_type": "code",
   "execution_count": 5,
   "metadata": {
    "colab": {},
    "colab_type": "code",
    "id": "EzQ1a1M0GURm"
   },
   "outputs": [
    {
     "data": {
      "text/plain": [
       "count     1028.000000\n",
       "mean     14243.531128\n",
       "std       7048.768076\n",
       "min       2094.000000\n",
       "25%       8259.750000\n",
       "50%      14074.500000\n",
       "75%      20342.250000\n",
       "max      26999.000000\n",
       "Name: MonthlyRate, dtype: float64"
      ]
     },
     "execution_count": 5,
     "metadata": {},
     "output_type": "execute_result"
    }
   ],
   "source": [
    "# Find the details of MonthlyRate \n",
    "df.MonthlyRate.describe()"
   ]
  },
  {
   "cell_type": "markdown",
   "metadata": {
    "colab_type": "text",
    "id": "3h-YOTvPQI48"
   },
   "source": [
    "---\n",
    "## Part 2 - Cleaning and manipulating data \n",
    "---"
   ]
  },
  {
   "cell_type": "markdown",
   "metadata": {
    "colab_type": "text",
    "id": "EtLzBibsQfXu"
   },
   "source": [
    "### Using the dataframe ```df```, peform the following:\n",
    "\n",
    "* Check whether there are any missing values in ```df```. \n",
    "* If yes, drop those values and print the size of ```df``` after dropping these. "
   ]
  },
  {
   "cell_type": "code",
   "execution_count": 6,
   "metadata": {
    "colab": {},
    "colab_type": "code",
    "id": "XG-UK53fRDRZ"
   },
   "outputs": [
    {
     "name": "stdout",
     "output_type": "stream",
     "text": [
      "Age                         0\n",
      "Attrition                   0\n",
      "BusinessTravel              0\n",
      "DailyRate                   0\n",
      "Department                  0\n",
      "DistanceFromHome            0\n",
      "Education                   0\n",
      "EducationField              0\n",
      "EmployeeCount               0\n",
      "EmployeeNumber              0\n",
      "EnvironmentSatisfaction     0\n",
      "Gender                      0\n",
      "HourlyRate                  0\n",
      "JobInvolvement              0\n",
      "JobLevel                    0\n",
      "JobRole                     0\n",
      "JobSatisfaction             0\n",
      "MaritalStatus               0\n",
      "MonthlyIncome               0\n",
      "MonthlyRate                 0\n",
      "NumCompaniesWorked          0\n",
      "OverTime                    0\n",
      "PercentSalaryHike           0\n",
      "PerformanceRating           0\n",
      "RelationshipSatisfaction    0\n",
      "StockOptionLevel            0\n",
      "TotalWorkingYears           0\n",
      "TrainingTimesLastYear       0\n",
      "WorkLifeBalance             0\n",
      "YearsAtCompany              0\n",
      "YearsInCurrentRole          0\n",
      "YearsSinceLastPromotion     0\n",
      "YearsWithCurrManager        0\n",
      "ID                          0\n",
      "dtype: int64\n"
     ]
    }
   ],
   "source": [
    "# Check for missing values \n",
    "print(df.isna().sum())"
   ]
  },
  {
   "cell_type": "code",
   "execution_count": 7,
   "metadata": {},
   "outputs": [
    {
     "name": "stdout",
     "output_type": "stream",
     "text": [
      "(1028, 34)\n"
     ]
    }
   ],
   "source": [
    "# Drop the missing values \n",
    "df = df.dropna()\n",
    "\n",
    "# Print the size of df after dropping \n",
    "print(df.shape)"
   ]
  },
  {
   "cell_type": "markdown",
   "metadata": {
    "colab_type": "text",
    "id": "qtoGcl2XRWnS"
   },
   "source": [
    "### Using the dataframe ```df```, peform the following:\n",
    "\n",
    "* Add another column named ```MonthRateNew``` in ```df``` by subtracting the mean from ```MonthlyRate``` and dividing it by standard deviation. "
   ]
  },
  {
   "cell_type": "code",
   "execution_count": 8,
   "metadata": {
    "colab": {},
    "colab_type": "code",
    "id": "zDMncSUKR12P"
   },
   "outputs": [],
   "source": [
    "# Add a column named MonthRateNew \n",
    "df['MonthRateNew'] = (df['MonthlyRate'] - df['MonthlyRate'].mean()) / df['MonthlyRate'].std()"
   ]
  },
  {
   "cell_type": "code",
   "execution_count": 9,
   "metadata": {},
   "outputs": [
    {
     "data": {
      "text/html": [
       "<div>\n",
       "<style scoped>\n",
       "    .dataframe tbody tr th:only-of-type {\n",
       "        vertical-align: middle;\n",
       "    }\n",
       "\n",
       "    .dataframe tbody tr th {\n",
       "        vertical-align: top;\n",
       "    }\n",
       "\n",
       "    .dataframe thead th {\n",
       "        text-align: right;\n",
       "    }\n",
       "</style>\n",
       "<table border=\"1\" class=\"dataframe\">\n",
       "  <thead>\n",
       "    <tr style=\"text-align: right;\">\n",
       "      <th></th>\n",
       "      <th>MonthlyRate</th>\n",
       "      <th>MonthRateNew</th>\n",
       "    </tr>\n",
       "  </thead>\n",
       "  <tbody>\n",
       "    <tr>\n",
       "      <th>0</th>\n",
       "      <td>19479</td>\n",
       "      <td>0.742749</td>\n",
       "    </tr>\n",
       "    <tr>\n",
       "      <th>1</th>\n",
       "      <td>24907</td>\n",
       "      <td>1.512813</td>\n",
       "    </tr>\n",
       "    <tr>\n",
       "      <th>2</th>\n",
       "      <td>2396</td>\n",
       "      <td>-1.680795</td>\n",
       "    </tr>\n",
       "    <tr>\n",
       "      <th>3</th>\n",
       "      <td>23159</td>\n",
       "      <td>1.264827</td>\n",
       "    </tr>\n",
       "    <tr>\n",
       "      <th>4</th>\n",
       "      <td>16632</td>\n",
       "      <td>0.338849</td>\n",
       "    </tr>\n",
       "  </tbody>\n",
       "</table>\n",
       "</div>"
      ],
      "text/plain": [
       "   MonthlyRate  MonthRateNew\n",
       "0        19479      0.742749\n",
       "1        24907      1.512813\n",
       "2         2396     -1.680795\n",
       "3        23159      1.264827\n",
       "4        16632      0.338849"
      ]
     },
     "execution_count": 9,
     "metadata": {},
     "output_type": "execute_result"
    }
   ],
   "source": [
    "df[['MonthlyRate','MonthRateNew']].head()"
   ]
  },
  {
   "cell_type": "markdown",
   "metadata": {
    "colab_type": "text",
    "id": "pcbN7jep13og"
   },
   "source": [
    "### Using the dataframe ```movies```, perform the following: \n",
    "\n",
    "* Check whether there are any missing values in ```movies```. \n",
    "* Find out the number of observations/rows having any of their features/columns missing. \n",
    "* Drop the missing values and print the size of ```movies``` after dropping these. \n",
    "* Instead of dropping the missing values, replace the missing values by their mean (or some suitable value). \n"
   ]
  },
  {
   "cell_type": "code",
   "execution_count": 10,
   "metadata": {
    "colab": {},
    "colab_type": "code",
    "id": "DNszBx8A14ai"
   },
   "outputs": [
    {
     "name": "stdout",
     "output_type": "stream",
     "text": [
      "Unnamed: 0           0\n",
      "title                0\n",
      "title_type           0\n",
      "genre                0\n",
      "runtime              1\n",
      "mpaa_rating          0\n",
      "studio               5\n",
      "thtr_rel_year        0\n",
      "thtr_rel_month       0\n",
      "thtr_rel_day         0\n",
      "dvd_rel_year         7\n",
      "dvd_rel_month        7\n",
      "dvd_rel_day          7\n",
      "imdb_rating          0\n",
      "imdb_num_votes       0\n",
      "critics_rating       0\n",
      "critics_score        0\n",
      "audience_rating      0\n",
      "audience_score       0\n",
      "best_pic_nom         0\n",
      "best_pic_win         0\n",
      "best_actor_win       0\n",
      "best_actress_win     0\n",
      "best_dir_win         0\n",
      "top200_box           0\n",
      "director             2\n",
      "actor1               2\n",
      "actor2               7\n",
      "actor3               9\n",
      "actor4              12\n",
      "actor5              14\n",
      "dtype: int64\n"
     ]
    }
   ],
   "source": [
    "# Check for missing values \n",
    "print(movies.isna().sum())"
   ]
  },
  {
   "cell_type": "code",
   "execution_count": 11,
   "metadata": {},
   "outputs": [
    {
     "name": "stdout",
     "output_type": "stream",
     "text": [
      "shape of movies before dropping values: (600, 31)\n",
      "shape of movies after dropping values: (572, 31)\n"
     ]
    }
   ],
   "source": [
    "# Drop the missing values \n",
    "print(\"shape of movies before dropping values: \" +  str(movies.shape))\n",
    "movies = movies.dropna()\n",
    "print(\"shape of movies after dropping values: \" + str(movies.shape))"
   ]
  },
  {
   "cell_type": "code",
   "execution_count": 12,
   "metadata": {},
   "outputs": [
    {
     "name": "stdout",
     "output_type": "stream",
     "text": [
      "Unnamed: 0          0\n",
      "title               0\n",
      "title_type          0\n",
      "genre               0\n",
      "runtime             0\n",
      "mpaa_rating         0\n",
      "studio              0\n",
      "thtr_rel_year       0\n",
      "thtr_rel_month      0\n",
      "thtr_rel_day        0\n",
      "dvd_rel_year        0\n",
      "dvd_rel_month       0\n",
      "dvd_rel_day         0\n",
      "imdb_rating         0\n",
      "imdb_num_votes      0\n",
      "critics_rating      0\n",
      "critics_score       0\n",
      "audience_rating     0\n",
      "audience_score      0\n",
      "best_pic_nom        0\n",
      "best_pic_win        0\n",
      "best_actor_win      0\n",
      "best_actress_win    0\n",
      "best_dir_win        0\n",
      "top200_box          0\n",
      "director            0\n",
      "actor1              0\n",
      "actor2              0\n",
      "actor3              0\n",
      "actor4              0\n",
      "actor5              0\n",
      "dtype: int64\n"
     ]
    }
   ],
   "source": [
    "# Replace the missing values \n",
    "# You can use SimpleImputer of sklearn for this\n",
    "movies = movies.fillna(movies.mean())\n",
    "print(movies.isna().sum())"
   ]
  },
  {
   "cell_type": "markdown",
   "metadata": {
    "colab_type": "text",
    "id": "qDr11sjlBk_W"
   },
   "source": [
    "---\n",
    "## Part 3 - Visualizing data \n",
    "---"
   ]
  },
  {
   "cell_type": "markdown",
   "metadata": {
    "colab_type": "text",
    "id": "wC_w1zNCBw2G"
   },
   "source": [
    "### Visualize the ```df``` by drawing the following plots:\n",
    "\n",
    "* Plot a histogram of ```Age``` and find the range in which most people are there. \n",
    "* Modify the histogram of ```Age``` by adding 30 bins. \n",
    "* Draw a scatter plot between ```Age``` and ```Attrition``` and suitable labels to the axes. Find out whether people more than 50 years are more likely to leave the company. (```Attrition``` = 1 means people have left the company). "
   ]
  },
  {
   "cell_type": "code",
   "execution_count": 13,
   "metadata": {
    "colab": {},
    "colab_type": "code",
    "id": "645EwAsoH63i"
   },
   "outputs": [
    {
     "data": {
      "text/plain": [
       "(array([ 46.,  76., 157., 179., 177., 144.,  84.,  67.,  60.,  38.]),\n",
       " array([18. , 22.2, 26.4, 30.6, 34.8, 39. , 43.2, 47.4, 51.6, 55.8, 60. ]),\n",
       " <a list of 10 Patch objects>)"
      ]
     },
     "execution_count": 13,
     "metadata": {},
     "output_type": "execute_result"
    },
    {
     "data": {
      "image/png": "[encoded data removed]",
      "text/plain": [
       "<Figure size 432x288 with 1 Axes>"
      ]
     },
     "metadata": {
      "needs_background": "light"
     },
     "output_type": "display_data"
    }
   ],
   "source": [
    "# Plot and modify the histogram of Age\n",
    "plt.hist(df.Age)"
   ]
  },
  {
   "cell_type": "code",
   "execution_count": 14,
   "metadata": {},
   "outputs": [
    {
     "data": {
      "text/plain": [
       "array([[<matplotlib.axes._subplots.AxesSubplot object at 0x0000019F19126438>]],\n",
       "      dtype=object)"
      ]
     },
     "execution_count": 14,
     "metadata": {},
     "output_type": "execute_result"
    },
    {
     "data": {
      "image/png": "[encoded data removed]",
      "text/plain": [
       "<Figure size 432x288 with 1 Axes>"
      ]
     },
     "metadata": {
      "needs_background": "light"
     },
     "output_type": "display_data"
    }
   ],
   "source": [
    "df.hist(column='Age', bins=30)"
   ]
  },
  {
   "cell_type": "code",
   "execution_count": 15,
   "metadata": {},
   "outputs": [
    {
     "data": {
      "image/png": "[encoded data removed]",
      "text/plain": [
       "<Figure size 432x288 with 1 Axes>"
      ]
     },
     "metadata": {
      "needs_background": "light"
     },
     "output_type": "display_data"
    }
   ],
   "source": [
    "# Draw a scatter plot between Age and Attrition\n",
    "plt.scatter(df.Age, df.Attrition)\n",
    "plt.xlabel('Age')\n",
    "plt.ylabel('Attrition')\n",
    "plt.title('Scatter plot of Daily Rate and Montly Rate')\n",
    "plt.show()\n",
    "# seems like people are less likely to leave the company after the age of 50"
   ]
  },
  {
   "cell_type": "markdown",
   "metadata": {
    "colab_type": "text",
    "id": "eez_pkZ-HDKP"
   },
   "source": [
    "### Visualize the ```df``` by following the steps given below:\n",
    "\n",
    "* Get a series containing counts of unique values of ```Attrition```.\n",
    "* Draw a countplot for ```Attrition``` using ```sns.countplot()```. "
   ]
  },
  {
   "cell_type": "code",
   "execution_count": 16,
   "metadata": {
    "colab": {},
    "colab_type": "code",
    "id": "Tp8LnxLWIPfk"
   },
   "outputs": [
    {
     "data": {
      "image/png": "[encoded data removed]",
      "text/plain": [
       "<Figure size 432x288 with 1 Axes>"
      ]
     },
     "metadata": {
      "needs_background": "light"
     },
     "output_type": "display_data"
    }
   ],
   "source": [
    "# Get a series of counts of values of Attrition\n",
    "df['Attrition'].value_counts()\n",
    "\n",
    "# Draw a countplot for Attrition \n",
    "# You may use countplot of seaborn for this \n",
    "sns.countplot(x = 'Attrition', data = df)\n",
    "plt.show()"
   ]
  },
  {
   "cell_type": "markdown",
   "metadata": {
    "colab_type": "text",
    "id": "Vi01m9MBHaJD"
   },
   "source": [
    "### Visualize the ```df``` by following the steps given below:\n",
    "\n",
    "* Draw a cross tabulation of ```Attrition``` and ```BusinessTravel``` as bar charts. Find which value of ```BusinessTravel``` has highest number of people."
   ]
  },
  {
   "cell_type": "code",
   "execution_count": 17,
   "metadata": {
    "colab": {},
    "colab_type": "code",
    "id": "5OHAeOqeIQVM"
   },
   "outputs": [
    {
     "data": {
      "text/plain": [
       "Text(0.5, 1.0, 'Cross Tabulation between Attrition and BusinessTravel ')"
      ]
     },
     "execution_count": 17,
     "metadata": {},
     "output_type": "execute_result"
    },
    {
     "data": {
      "image/png": "[encoded data removed]",
      "text/plain": [
       "<Figure size 432x288 with 1 Axes>"
      ]
     },
     "metadata": {
      "needs_background": "light"
     },
     "output_type": "display_data"
    }
   ],
   "source": [
    "# Draw a cross tab of Attritiona and BusinessTravel \n",
    "# You may use crosstab of pandas for this \n",
    "pd.crosstab(df.BusinessTravel,df.Attrition).plot(kind='bar')\n",
    "plt.ylabel('Number of Attrition')\n",
    "plt.title(\"Cross Tabulation between Attrition and BusinessTravel \")\n",
    "# Its clear that Travel_Rarely category highest number of people"
   ]
  },
  {
   "cell_type": "markdown",
   "metadata": {
    "colab_type": "text",
    "id": "1FCc9ZkUHfqL"
   },
   "source": [
    "### Visualize the ```df``` by drawing the following plot:\n",
    "\n",
    "* Draw a stacked bar chart between ```Attrition``` and ```Gender``` columns. "
   ]
  },
  {
   "cell_type": "code",
   "execution_count": 18,
   "metadata": {
    "colab": {},
    "colab_type": "code",
    "id": "58ELSAXBIQST"
   },
   "outputs": [
    {
     "data": {
      "text/plain": [
       "Text(0, 0.5, 'Number of Attrition')"
      ]
     },
     "execution_count": 18,
     "metadata": {},
     "output_type": "execute_result"
    },
    {
     "data": {
      "image/png": "[encoded data removed]",
      "text/plain": [
       "<Figure size 432x288 with 1 Axes>"
      ]
     },
     "metadata": {
      "needs_background": "light"
     },
     "output_type": "display_data"
    }
   ],
   "source": [
    "# Draw a stacked bar chart between Attrition and Gender \n",
    "pd.crosstab(df.Gender,df.Attrition).plot(kind='bar', stacked=True)\n",
    "plt.ylabel('Number of Attrition')"
   ]
  },
  {
   "cell_type": "markdown",
   "metadata": {
    "colab_type": "text",
    "id": "vZzsi8_QLEdq"
   },
   "source": [
    "### Visualize the ```df``` by drawing the following histogram:\n",
    "\n",
    "* Draw a histogram of ```TotalWorkingYears``` with 30 bins. \n",
    "* Draw a histogram of ```YearsAtCompany``` with 30 bins and find whether the values in ```YearsAtCompany``` are skewed. "
   ]
  },
  {
   "cell_type": "code",
   "execution_count": 19,
   "metadata": {
    "colab": {},
    "colab_type": "code",
    "id": "zvSlfj3FLUvV"
   },
   "outputs": [
    {
     "data": {
      "text/plain": [
       "array([[<matplotlib.axes._subplots.AxesSubplot object at 0x0000019F19404518>]],\n",
       "      dtype=object)"
      ]
     },
     "execution_count": 19,
     "metadata": {},
     "output_type": "execute_result"
    },
    {
     "data": {
      "image/png": "[encoded data removed]",
      "text/plain": [
       "<Figure size 432x288 with 1 Axes>"
      ]
     },
     "metadata": {
      "needs_background": "light"
     },
     "output_type": "display_data"
    },
    {
     "data": {
      "image/png": "[encoded data removed]",
      "text/plain": [
       "<Figure size 432x288 with 1 Axes>"
      ]
     },
     "metadata": {
      "needs_background": "light"
     },
     "output_type": "display_data"
    }
   ],
   "source": [
    "# Draw a histogram of TotalWorkingYears with 30 bins\n",
    "df.hist(column='TotalWorkingYears', bins=30)\n",
    "\n",
    "# Draw a histogram of YearsAtCompany\n",
    "df.hist(column='YearsAtCompany', bins=30)\n",
    "# It appears that values in YearsAtCompany are skewed for less than 15 years"
   ]
  },
  {
   "cell_type": "markdown",
   "metadata": {
    "colab_type": "text",
    "id": "oBcsFqz-Moja"
   },
   "source": [
    "### Visualize the ```df``` by drawing the following boxplot:\n",
    "\n",
    "* Draw a boxplot of ```MonthlyIncome``` for each ```Department``` and report whether there is/are outlier(s). \n"
   ]
  },
  {
   "cell_type": "code",
   "execution_count": 20,
   "metadata": {
    "colab": {},
    "colab_type": "code",
    "id": "S6zsSE65NED9"
   },
   "outputs": [
    {
     "data": {
      "text/plain": [
       "<matplotlib.axes._subplots.AxesSubplot at 0x19f195c6710>"
      ]
     },
     "execution_count": 20,
     "metadata": {},
     "output_type": "execute_result"
    },
    {
     "data": {
      "image/png": "[encoded data removed]",
      "text/plain": [
       "<Figure size 432x288 with 1 Axes>"
      ]
     },
     "metadata": {
      "needs_background": "light"
     },
     "output_type": "display_data"
    }
   ],
   "source": [
    "# Draw a boxplot of MonthlyIncome for each Department and report outliers \n",
    "sns.boxplot('Department', 'MonthlyIncome', data=df)\n",
    "# The black dots outside max value represents the outliers which are present in Sales and Research & Development Departments"
   ]
  },
  {
   "cell_type": "markdown",
   "metadata": {
    "colab_type": "text",
    "id": "NRPgJjp-NX07"
   },
   "source": [
    "### Visualize the ```df``` by drawing the following piechart:\n",
    "\n",
    "* Create a pie chart of the values in ```JobRole``` with suitable label and report which role has highest number of persons. "
   ]
  },
  {
   "cell_type": "code",
   "execution_count": 21,
   "metadata": {
    "colab": {},
    "colab_type": "code",
    "id": "5pr2HVVGNlaV"
   },
   "outputs": [
    {
     "name": "stdout",
     "output_type": "stream",
     "text": [
      "Sales Executive              223\n",
      "Research Scientist           209\n",
      "Laboratory Technician        183\n",
      "Manufacturing Director       105\n",
      "Healthcare Representative     85\n",
      "Manager                       79\n",
      "Research Director             59\n",
      "Sales Representative          57\n",
      "Human Resources               28\n",
      "Name: JobRole, dtype: int64\n"
     ]
    },
    {
     "data": {
      "image/png": "[encoded data removed]",
      "text/plain": [
       "<Figure size 432x288 with 1 Axes>"
      ]
     },
     "metadata": {},
     "output_type": "display_data"
    }
   ],
   "source": [
    "# Create a piechart of JobRole \n",
    "# You will need to find the counts of unique values in JobRole. \n",
    "Role_counts = df.JobRole.value_counts()\n",
    "print(Role_counts)\n",
    "plt.pie(Role_counts, labels=Role_counts.index.tolist())\n",
    "plt.show()\n",
    "# The role of Sales Executive has highest number of persons"
   ]
  },
  {
   "cell_type": "code",
   "execution_count": null,
   "metadata": {},
   "outputs": [],
   "source": []
  }
 ],
 "metadata": {
  "colab": {
   "collapsed_sections": [],
   "name": "Assignment_2_DS.ipynb",
   "provenance": []
  },
  "kernelspec": {
   "display_name": "Python 3",
   "language": "python",
   "name": "python3"
  },
  "language_info": {
   "codemirror_mode": {
    "name": "ipython",
    "version": 3
   },
   "file_extension": ".py",
   "mimetype": "text/x-python",
   "name": "python",
   "nbconvert_exporter": "python",
   "pygments_lexer": "ipython3",
   "version": "3.7.3"
  }
 },
 "nbformat": 4,
 "nbformat_minor": 1
}
