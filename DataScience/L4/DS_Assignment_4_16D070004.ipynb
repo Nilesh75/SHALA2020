{
 "cells": [
  {
   "cell_type": "markdown",
   "metadata": {
    "colab_type": "text",
    "id": "NVMUAJt8gzbA"
   },
   "source": [
    "# DS Assignment 4: MLE and Hypothesis Testing\n",
    "# Nilesh Sonune | 16D070004"
   ]
  },
  {
   "cell_type": "markdown",
   "metadata": {
    "colab_type": "text",
    "id": "d1-kEc8hXx3N"
   },
   "source": [
    "### Read the given csv file [```q4.csv```](https://raw.githubusercontent.com/Ipsit1234/SHALA/master/q4.csv) of samples. Assume that it is drawn from a exponential distribution. What is the difference of log likelihoods for $\\lambda = 1$ and $\\lambda = 2$ ? Which of the two is more strongly supported?"
   ]
  },
  {
   "cell_type": "code",
   "execution_count": 1,
   "metadata": {
    "colab": {},
    "colab_type": "code",
    "id": "DHfUkvD3KcNN"
   },
   "outputs": [],
   "source": [
    "import numpy as np\n",
    "import pandas as pd\n",
    "from scipy import stats\n",
    "from matplotlib import pyplot as plt\n",
    "import seaborn as sns"
   ]
  },
  {
   "cell_type": "code",
   "execution_count": 2,
   "metadata": {
    "colab": {},
    "colab_type": "code",
    "id": "UAphR126LEwa"
   },
   "outputs": [
    {
     "data": {
      "text/html": [
       "<div>\n",
       "<style scoped>\n",
       "    .dataframe tbody tr th:only-of-type {\n",
       "        vertical-align: middle;\n",
       "    }\n",
       "\n",
       "    .dataframe tbody tr th {\n",
       "        vertical-align: top;\n",
       "    }\n",
       "\n",
       "    .dataframe thead th {\n",
       "        text-align: right;\n",
       "    }\n",
       "</style>\n",
       "<table border=\"1\" class=\"dataframe\">\n",
       "  <thead>\n",
       "    <tr style=\"text-align: right;\">\n",
       "      <th></th>\n",
       "      <th>0</th>\n",
       "      <th>1</th>\n",
       "    </tr>\n",
       "  </thead>\n",
       "  <tbody>\n",
       "    <tr>\n",
       "      <th>0</th>\n",
       "      <td>0</td>\n",
       "      <td>0.019404</td>\n",
       "    </tr>\n",
       "    <tr>\n",
       "      <th>1</th>\n",
       "      <td>1</td>\n",
       "      <td>0.043634</td>\n",
       "    </tr>\n",
       "    <tr>\n",
       "      <th>2</th>\n",
       "      <td>2</td>\n",
       "      <td>0.023797</td>\n",
       "    </tr>\n",
       "    <tr>\n",
       "      <th>3</th>\n",
       "      <td>3</td>\n",
       "      <td>0.444340</td>\n",
       "    </tr>\n",
       "    <tr>\n",
       "      <th>4</th>\n",
       "      <td>4</td>\n",
       "      <td>0.578160</td>\n",
       "    </tr>\n",
       "    <tr>\n",
       "      <th>5</th>\n",
       "      <td>5</td>\n",
       "      <td>0.144288</td>\n",
       "    </tr>\n",
       "    <tr>\n",
       "      <th>6</th>\n",
       "      <td>6</td>\n",
       "      <td>0.306511</td>\n",
       "    </tr>\n",
       "    <tr>\n",
       "      <th>7</th>\n",
       "      <td>7</td>\n",
       "      <td>0.535743</td>\n",
       "    </tr>\n",
       "    <tr>\n",
       "      <th>8</th>\n",
       "      <td>8</td>\n",
       "      <td>1.607578</td>\n",
       "    </tr>\n",
       "    <tr>\n",
       "      <th>9</th>\n",
       "      <td>9</td>\n",
       "      <td>1.338186</td>\n",
       "    </tr>\n",
       "  </tbody>\n",
       "</table>\n",
       "</div>"
      ],
      "text/plain": [
       "   0         1\n",
       "0  0  0.019404\n",
       "1  1  0.043634\n",
       "2  2  0.023797\n",
       "3  3  0.444340\n",
       "4  4  0.578160\n",
       "5  5  0.144288\n",
       "6  6  0.306511\n",
       "7  7  0.535743\n",
       "8  8  1.607578\n",
       "9  9  1.338186"
      ]
     },
     "execution_count": 2,
     "metadata": {},
     "output_type": "execute_result"
    }
   ],
   "source": [
    "url = 'https://raw.githubusercontent.com/Ipsit1234/SHALA/master/q4.csv'\n",
    "data = pd.read_csv(url,header=None)\n",
    "data.head(10)"
   ]
  },
  {
   "cell_type": "markdown",
   "metadata": {
    "colab_type": "text",
    "id": "nDpo9jpidQHk"
   },
   "source": [
    "# PDF of exponential distribution is $\\lambda e^{-\\lambda x}$\n",
    "Define a function to find pdf. You can use any module to get pre-defined functions also. And then find the likelihood and log-likelihood"
   ]
  },
  {
   "cell_type": "code",
   "execution_count": 3,
   "metadata": {
    "colab": {},
    "colab_type": "code",
    "id": "Hio8uXrtLjl7"
   },
   "outputs": [
    {
     "name": "stdout",
     "output_type": "stream",
     "text": [
      "-48.94830108538966\n",
      "-28.581884114784785\n"
     ]
    }
   ],
   "source": [
    "def pdf_exp(lambd,x):\n",
    "    return lambd * np.exp(-1*lambd*x)\n",
    "\n",
    "likelihood_1 = 1\n",
    "likelihood_2 = 1\n",
    "\n",
    "for val in data[1].values:\n",
    "    likelihood_1 = likelihood_1 * pdf_exp(x = val,lambd=1)\n",
    "    likelihood_2 = likelihood_2 * pdf_exp(x = val,lambd=2)\n",
    "\n",
    "log_likelihood_1 = np.log(likelihood_1)\n",
    "log_likelihood_2 = np.log(likelihood_2)\n",
    "\n",
    "print(log_likelihood_1) \n",
    "print(log_likelihood_2)"
   ]
  },
  {
   "cell_type": "markdown",
   "metadata": {
    "colab_type": "text",
    "id": "q214ixOGeR35"
   },
   "source": [
    "### Read the csv files [```q4_1.csv```](https://raw.githubusercontent.com/Ipsit1234/SHALA/master/q4_1.csv) and [```q4_2.csv```](https://raw.githubusercontent.com/Ipsit1234/SHALA/master/q4_2.csv) to get samples from two unknown distributions. Choose a significance level and implement the the most general two-sample t-test"
   ]
  },
  {
   "cell_type": "code",
   "execution_count": 4,
   "metadata": {
    "colab": {},
    "colab_type": "code",
    "id": "bAsMqWiGdb52"
   },
   "outputs": [
    {
     "name": "stdout",
     "output_type": "stream",
     "text": [
      "   0         1\n",
      "0  0 -0.179278\n",
      "1  1  0.236714\n",
      "2  2  0.255502\n",
      "3  3 -0.029321\n",
      "4  4  0.004818\n",
      "5  5 -0.027196\n",
      "6  6  0.115886\n",
      "7  7  0.081445\n",
      "8  8 -0.074315\n",
      "9  9  0.377067\n",
      "   0         1\n",
      "0  0  0.680541\n",
      "1  1  0.436810\n",
      "2  2  0.604089\n",
      "3  3  0.518702\n",
      "4  4  0.479711\n",
      "5  5  0.471884\n",
      "6  6  0.432055\n",
      "7  7  0.588883\n",
      "8  8  0.421044\n",
      "9  9  0.361212\n"
     ]
    }
   ],
   "source": [
    "sample1 = pd.read_csv('https://raw.githubusercontent.com/Ipsit1234/SHALA/master/q4_1.csv',header=None)\n",
    "sample2 = pd.read_csv('https://raw.githubusercontent.com/Ipsit1234/SHALA/master/q4_2.csv',header=None)\n",
    "print(sample1.head(10))\n",
    "print(sample2.head(10))"
   ]
  },
  {
   "cell_type": "markdown",
   "metadata": {
    "colab_type": "text",
    "id": "yIvOH3yWiTU9"
   },
   "source": [
    "Find the parameters required to compute the T statistic"
   ]
  },
  {
   "cell_type": "code",
   "execution_count": 5,
   "metadata": {
    "colab": {},
    "colab_type": "code",
    "id": "_3TBrHZifG2u"
   },
   "outputs": [
    {
     "name": "stdout",
     "output_type": "stream",
     "text": [
      "mu1: 0.046, mu2: 0.501, s1: 0.052, s2: 0.01, n1: 100, n2: 50\n"
     ]
    }
   ],
   "source": [
    "significance = 0.01\n",
    "mu1 = np.mean(sample1[1].values)\n",
    "mu2 = np.mean(sample2[1].values)\n",
    "\n",
    "s1 = np.var(sample1[1].values)\n",
    "s2 = np.var(sample2[1].values)\n",
    "\n",
    "n1 = sample1[1].shape[0]\n",
    "n2 = sample2[1].shape[0]\n",
    "\n",
    "print('mu1: {}, mu2: {}, s1: {}, s2: {}, n1: {}, n2: {}'.format(round(mu1,3), round(mu2,3), round(s1,3), round(s2,3), n1, n2))"
   ]
  },
  {
   "cell_type": "markdown",
   "metadata": {
    "colab_type": "text",
    "id": "3i3gxyQziXD5"
   },
   "source": [
    "Find the degrees of freedom to get the critical value"
   ]
  },
  {
   "cell_type": "code",
   "execution_count": 6,
   "metadata": {
    "colab": {},
    "colab_type": "code",
    "id": "p4Hx9UL3flF8"
   },
   "outputs": [
    {
     "name": "stdout",
     "output_type": "stream",
     "text": [
      "T: 16.930142459567165, deg_freedom: 148\n"
     ]
    }
   ],
   "source": [
    "T = (mu1 - mu2) / np.sqrt((s1/n1) + (s2/n2))\n",
    "deg_freedom = n1 + n2 -2\n",
    "\n",
    "print('T: {}, deg_freedom: {}'.format(abs(T), deg_freedom))"
   ]
  },
  {
   "cell_type": "markdown",
   "metadata": {
    "colab_type": "text",
    "id": "nyai_S1zihfm"
   },
   "source": [
    "Compare the critical value and the T statistic and conclude whether null hypothesis is accepted or not. Print 'YES' is it is rejected, otherwise print 'NO'."
   ]
  },
  {
   "cell_type": "code",
   "execution_count": 7,
   "metadata": {
    "colab": {},
    "colab_type": "code",
    "id": "ST8J42mAfn0R"
   },
   "outputs": [
    {
     "name": "stdout",
     "output_type": "stream",
     "text": [
      "T : 16.930142459567165, Critical Value : 0.35209086068513945\n",
      "YES\n"
     ]
    }
   ],
   "source": [
    "critical_value = stats.t.pdf((1-significance)/2, deg_freedom)\n",
    "print('T : {}, Critical Value : {}'.format(np.abs(T), critical_value))\n",
    "if np.abs(T) > critical_value:\n",
    "    print('YES') # Null Hypothesis is rejected\n",
    "else:\n",
    "    print('NO') # Null Hypothesis is not rejected"
   ]
  },
  {
   "cell_type": "markdown",
   "metadata": {
    "colab_type": "text",
    "id": "SrOP9BwSiwVc"
   },
   "source": [
    "Plot the distribution of both the samples to visualize"
   ]
  },
  {
   "cell_type": "code",
   "execution_count": 8,
   "metadata": {
    "colab": {
     "base_uri": "https://localhost:8080/",
     "height": 265
    },
    "colab_type": "code",
    "id": "omfVDZqxfyAM",
    "outputId": "46dece49-758d-4830-9865-976145d664f3"
   },
   "outputs": [
    {
     "data": {
      "image/png": "[encoded data removed]",
      "text/plain": [
       "<Figure size 432x288 with 1 Axes>"
      ]
     },
     "metadata": {
      "needs_background": "light"
     },
     "output_type": "display_data"
    }
   ],
   "source": [
    "sns.distplot(sample1[1].values)\n",
    "\n",
    "sns.distplot(sample2[1].values)\n",
    "plt.legend(['first sample','second sample'])\n",
    "plt.show()\n",
    "\n",
    "# It can be clearly observed that both distributions are completely different"
   ]
  },
  {
   "cell_type": "code",
   "execution_count": null,
   "metadata": {
    "colab": {},
    "colab_type": "code",
    "id": "Z-5ammelgOnA"
   },
   "outputs": [],
   "source": []
  }
 ],
 "metadata": {
  "colab": {
   "collapsed_sections": [],
   "name": "Assignment.ipynb",
   "provenance": []
  },
  "kernelspec": {
   "display_name": "Python 3",
   "language": "python",
   "name": "python3"
  },
  "language_info": {
   "codemirror_mode": {
    "name": "ipython",
    "version": 3
   },
   "file_extension": ".py",
   "mimetype": "text/x-python",
   "name": "python",
   "nbconvert_exporter": "python",
   "pygments_lexer": "ipython3",
   "version": "3.7.3"
  }
 },
 "nbformat": 4,
 "nbformat_minor": 1
}
